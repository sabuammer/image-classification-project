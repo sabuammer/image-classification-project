{
 "cells": [
  {
   "cell_type": "code",
   "execution_count": 1,
   "metadata": {},
   "outputs": [],
   "source": [
    "import pandas as pd\n",
    "import numpy as np\n",
    "from sklearn.neighbors import KNeighborsClassifier\n",
    "from sklearn.model_selection import cross_validate, StratifiedKFold\n",
    "from sklearn.svm import SVC\n",
    "from sklearn.decomposition import PCA"
   ]
  },
  {
   "cell_type": "code",
   "execution_count": 2,
   "metadata": {},
   "outputs": [],
   "source": [
    "X = pd.read_csv(\"../data/X.csv\", sep=' ', header=None, dtype=float)\n",
    "X = X.values"
   ]
  },
  {
   "cell_type": "code",
   "execution_count": 3,
   "metadata": {},
   "outputs": [],
   "source": [
    "y = pd.read_csv(\"../data/y_bush_vs_others.csv\", header=None)\n",
    "y_bush = y.values.ravel()\n",
    "y = pd.read_csv(\"../data/y_williams_vs_others.csv\", header=None)\n",
    "y_williams = y.values.ravel()"
   ]
  },
  {
   "cell_type": "code",
   "execution_count": null,
   "metadata": {},
   "outputs": [],
   "source": [
    "# For Cluster\n",
    "\n",
    "import pandas as pd\n",
    "import numpy as np\n",
    "from sklearn.neighbors import KNeighborsClassifier\n",
    "from sklearn.model_selection import cross_validate, StratifiedKFold\n",
    "from sklearn.svm import SVC\n",
    "from sklearn.decomposition import PCA\n",
    "\n",
    "X = pd.read_csv(\"X.csv\", sep=' ', header=None, dtype=float)\n",
    "X = X.values\n",
    "y = pd.read_csv(\"y_bush_vs_others.csv\", header=None)\n",
    "y_bush = y.values.ravel()\n",
    "y = pd.read_csv(\"y_williams_vs_others.csv\", header=None)\n",
    "y_williams = y.values.ravel()"
   ]
  },
  {
   "cell_type": "code",
   "execution_count": 5,
   "metadata": {},
   "outputs": [],
   "source": [
    "pca = PCA(n_components=4096)"
   ]
  },
  {
   "cell_type": "code",
   "execution_count": 6,
   "metadata": {},
   "outputs": [],
   "source": [
    "X_4 = pca.fit_transform(X)"
   ]
  },
  {
   "cell_type": "code",
   "execution_count": 7,
   "metadata": {},
   "outputs": [],
   "source": [
    "knn = KNeighborsClassifier(n_neighbors=1)"
   ]
  },
  {
   "cell_type": "code",
   "execution_count": 51,
   "metadata": {},
   "outputs": [
    {
     "data": {
      "text/plain": [
       "KNeighborsClassifier(algorithm='auto', leaf_size=30, metric='minkowski',\n",
       "           metric_params=None, n_jobs=1, n_neighbors=1, p=2,\n",
       "           weights='uniform')"
      ]
     },
     "execution_count": 51,
     "metadata": {},
     "output_type": "execute_result"
    }
   ],
   "source": [
    "knn"
   ]
  },
  {
   "cell_type": "code",
   "execution_count": 8,
   "metadata": {},
   "outputs": [],
   "source": [
    "stratified_cv_results = cross_validate(knn, X_4, y_bush, cv=StratifiedKFold(n_splits = 3, shuffle=True, random_state = 3152), \n",
    "                                       scoring=('precision', 'recall', 'f1'), return_train_score=False)"
   ]
  },
  {
   "cell_type": "code",
   "execution_count": 9,
   "metadata": {},
   "outputs": [
    {
     "data": {
      "text/plain": [
       "{'fit_time': array([4.72806191, 3.53965592, 3.95814013]),\n",
       " 'score_time': array([512.41031718, 522.86151481, 618.79379296]),\n",
       " 'test_precision': array([0.15028902, 0.17058824, 0.14375   ]),\n",
       " 'test_recall': array([0.14689266, 0.16384181, 0.13068182]),\n",
       " 'test_f1': array([0.14857143, 0.16714697, 0.13690476])}"
      ]
     },
     "execution_count": 9,
     "metadata": {},
     "output_type": "execute_result"
    }
   ],
   "source": [
    "stratified_cv_results"
   ]
  },
  {
   "cell_type": "code",
   "execution_count": 5,
   "metadata": {},
   "outputs": [
    {
     "name": "stderr",
     "output_type": "stream",
     "text": [
      "/Users/sabuammer/.virtualenvs/tensorflow/lib/python3.6/site-packages/sklearn/metrics/classification.py:1135: UndefinedMetricWarning: Precision is ill-defined and being set to 0.0 due to no predicted samples.\n",
      "  'precision', 'predicted', average, warn_for)\n",
      "/Users/sabuammer/.virtualenvs/tensorflow/lib/python3.6/site-packages/sklearn/metrics/classification.py:1135: UndefinedMetricWarning: F-score is ill-defined and being set to 0.0 due to no predicted samples.\n",
      "  'precision', 'predicted', average, warn_for)\n",
      "/Users/sabuammer/.virtualenvs/tensorflow/lib/python3.6/site-packages/sklearn/metrics/classification.py:1135: UndefinedMetricWarning: Precision is ill-defined and being set to 0.0 due to no predicted samples.\n",
      "  'precision', 'predicted', average, warn_for)\n",
      "/Users/sabuammer/.virtualenvs/tensorflow/lib/python3.6/site-packages/sklearn/metrics/classification.py:1135: UndefinedMetricWarning: F-score is ill-defined and being set to 0.0 due to no predicted samples.\n",
      "  'precision', 'predicted', average, warn_for)\n",
      "/Users/sabuammer/.virtualenvs/tensorflow/lib/python3.6/site-packages/sklearn/metrics/classification.py:1135: UndefinedMetricWarning: Precision is ill-defined and being set to 0.0 due to no predicted samples.\n",
      "  'precision', 'predicted', average, warn_for)\n",
      "/Users/sabuammer/.virtualenvs/tensorflow/lib/python3.6/site-packages/sklearn/metrics/classification.py:1135: UndefinedMetricWarning: F-score is ill-defined and being set to 0.0 due to no predicted samples.\n",
      "  'precision', 'predicted', average, warn_for)\n",
      "/Users/sabuammer/.virtualenvs/tensorflow/lib/python3.6/site-packages/sklearn/metrics/classification.py:1135: UndefinedMetricWarning: Precision is ill-defined and being set to 0.0 due to no predicted samples.\n",
      "  'precision', 'predicted', average, warn_for)\n",
      "/Users/sabuammer/.virtualenvs/tensorflow/lib/python3.6/site-packages/sklearn/metrics/classification.py:1135: UndefinedMetricWarning: F-score is ill-defined and being set to 0.0 due to no predicted samples.\n",
      "  'precision', 'predicted', average, warn_for)\n",
      "/Users/sabuammer/.virtualenvs/tensorflow/lib/python3.6/site-packages/sklearn/metrics/classification.py:1135: UndefinedMetricWarning: Precision is ill-defined and being set to 0.0 due to no predicted samples.\n",
      "  'precision', 'predicted', average, warn_for)\n",
      "/Users/sabuammer/.virtualenvs/tensorflow/lib/python3.6/site-packages/sklearn/metrics/classification.py:1135: UndefinedMetricWarning: F-score is ill-defined and being set to 0.0 due to no predicted samples.\n",
      "  'precision', 'predicted', average, warn_for)\n",
      "/Users/sabuammer/.virtualenvs/tensorflow/lib/python3.6/site-packages/sklearn/metrics/classification.py:1135: UndefinedMetricWarning: Precision is ill-defined and being set to 0.0 due to no predicted samples.\n",
      "  'precision', 'predicted', average, warn_for)\n",
      "/Users/sabuammer/.virtualenvs/tensorflow/lib/python3.6/site-packages/sklearn/metrics/classification.py:1135: UndefinedMetricWarning: F-score is ill-defined and being set to 0.0 due to no predicted samples.\n",
      "  'precision', 'predicted', average, warn_for)\n",
      "/Users/sabuammer/.virtualenvs/tensorflow/lib/python3.6/site-packages/sklearn/metrics/classification.py:1135: UndefinedMetricWarning: Precision is ill-defined and being set to 0.0 due to no predicted samples.\n",
      "  'precision', 'predicted', average, warn_for)\n",
      "/Users/sabuammer/.virtualenvs/tensorflow/lib/python3.6/site-packages/sklearn/metrics/classification.py:1135: UndefinedMetricWarning: F-score is ill-defined and being set to 0.0 due to no predicted samples.\n",
      "  'precision', 'predicted', average, warn_for)\n",
      "/Users/sabuammer/.virtualenvs/tensorflow/lib/python3.6/site-packages/sklearn/metrics/classification.py:1135: UndefinedMetricWarning: Precision is ill-defined and being set to 0.0 due to no predicted samples.\n",
      "  'precision', 'predicted', average, warn_for)\n",
      "/Users/sabuammer/.virtualenvs/tensorflow/lib/python3.6/site-packages/sklearn/metrics/classification.py:1135: UndefinedMetricWarning: F-score is ill-defined and being set to 0.0 due to no predicted samples.\n",
      "  'precision', 'predicted', average, warn_for)\n",
      "/Users/sabuammer/.virtualenvs/tensorflow/lib/python3.6/site-packages/sklearn/metrics/classification.py:1135: UndefinedMetricWarning: Precision is ill-defined and being set to 0.0 due to no predicted samples.\n",
      "  'precision', 'predicted', average, warn_for)\n",
      "/Users/sabuammer/.virtualenvs/tensorflow/lib/python3.6/site-packages/sklearn/metrics/classification.py:1135: UndefinedMetricWarning: F-score is ill-defined and being set to 0.0 due to no predicted samples.\n",
      "  'precision', 'predicted', average, warn_for)\n",
      "/Users/sabuammer/.virtualenvs/tensorflow/lib/python3.6/site-packages/sklearn/metrics/classification.py:1135: UndefinedMetricWarning: Precision is ill-defined and being set to 0.0 due to no predicted samples.\n",
      "  'precision', 'predicted', average, warn_for)\n",
      "/Users/sabuammer/.virtualenvs/tensorflow/lib/python3.6/site-packages/sklearn/metrics/classification.py:1135: UndefinedMetricWarning: F-score is ill-defined and being set to 0.0 due to no predicted samples.\n",
      "  'precision', 'predicted', average, warn_for)\n",
      "/Users/sabuammer/.virtualenvs/tensorflow/lib/python3.6/site-packages/sklearn/metrics/classification.py:1135: UndefinedMetricWarning: Precision is ill-defined and being set to 0.0 due to no predicted samples.\n",
      "  'precision', 'predicted', average, warn_for)\n",
      "/Users/sabuammer/.virtualenvs/tensorflow/lib/python3.6/site-packages/sklearn/metrics/classification.py:1135: UndefinedMetricWarning: F-score is ill-defined and being set to 0.0 due to no predicted samples.\n",
      "  'precision', 'predicted', average, warn_for)\n",
      "/Users/sabuammer/.virtualenvs/tensorflow/lib/python3.6/site-packages/sklearn/metrics/classification.py:1135: UndefinedMetricWarning: Precision is ill-defined and being set to 0.0 due to no predicted samples.\n",
      "  'precision', 'predicted', average, warn_for)\n",
      "/Users/sabuammer/.virtualenvs/tensorflow/lib/python3.6/site-packages/sklearn/metrics/classification.py:1135: UndefinedMetricWarning: F-score is ill-defined and being set to 0.0 due to no predicted samples.\n",
      "  'precision', 'predicted', average, warn_for)\n",
      "/Users/sabuammer/.virtualenvs/tensorflow/lib/python3.6/site-packages/sklearn/metrics/classification.py:1135: UndefinedMetricWarning: Precision is ill-defined and being set to 0.0 due to no predicted samples.\n",
      "  'precision', 'predicted', average, warn_for)\n",
      "/Users/sabuammer/.virtualenvs/tensorflow/lib/python3.6/site-packages/sklearn/metrics/classification.py:1135: UndefinedMetricWarning: F-score is ill-defined and being set to 0.0 due to no predicted samples.\n",
      "  'precision', 'predicted', average, warn_for)\n"
     ]
    }
   ],
   "source": [
    "results_arr = []\n",
    "components = 2\n",
    "for i in range(12):\n",
    "    pca = PCA(n_components = components)\n",
    "    X_4 = pca.fit_transform(X)\n",
    "    svm = SVC(C=0.1, kernel='poly', degree=2, gamma=1)\n",
    "    stratified_cv_results_svm = cross_validate(svm, X_4, y_bush, cv=StratifiedKFold(n_splits = 3, shuffle=True, random_state = 3152), \n",
    "                                       scoring=('precision', 'recall', 'f1'), return_train_score=False, n_jobs=-1)\n",
    "    results_arr.append((stratified_cv_results_svm, 'svm', components))\n",
    "    components *= 2"
   ]
  },
  {
   "cell_type": "code",
   "execution_count": null,
   "metadata": {},
   "outputs": [],
   "source": [
    "pca = PCA(n_components=4096)\n",
    "X_4 = pca.fit_transform(X)\n",
    "knn = KNeighborsClassifier(n_neighbors=1)\n",
    "stratified_cv_results = cross_validate(knn, X_4, y_williams, cv=StratifiedKFold(n_splits = 3, shuffle=True, random_state = 3152), \n",
    "                                       scoring=('precision', 'recall', 'f1'), return_train_score=False)"
   ]
  },
  {
   "cell_type": "code",
   "execution_count": 7,
   "metadata": {},
   "outputs": [],
   "source": [
    "best_result = results_arr[7]"
   ]
  },
  {
   "cell_type": "code",
   "execution_count": 27,
   "metadata": {},
   "outputs": [
    {
     "data": {
      "text/plain": [
       "({'fit_time': array([5.72372413, 5.57416296, 5.59015489]),\n",
       "  'score_time': array([6.10832191, 5.93540192, 5.96923113]),\n",
       "  'test_precision': array([0.32608696, 0.31372549, 0.31578947]),\n",
       "  'test_recall': array([0.16949153, 0.18079096, 0.20454545]),\n",
       "  'test_f1': array([0.22304833, 0.22939068, 0.24827586])},\n",
       " 'svm',\n",
       " 256)"
      ]
     },
     "execution_count": 27,
     "metadata": {},
     "output_type": "execute_result"
    }
   ],
   "source": [
    "best_result"
   ]
  },
  {
   "cell_type": "code",
   "execution_count": 26,
   "metadata": {},
   "outputs": [
    {
     "data": {
      "text/plain": [
       "0.23357162340336543"
      ]
     },
     "execution_count": 26,
     "metadata": {},
     "output_type": "execute_result"
    }
   ],
   "source": [
    "np.average(best_result[0]['test_f1'])"
   ]
  },
  {
   "cell_type": "code",
   "execution_count": 9,
   "metadata": {},
   "outputs": [],
   "source": [
    "# Bush\n",
    "\n",
    "pca = PCA(n_components=256, whiten=True)\n",
    "X_4 = pca.fit_transform(X)\n",
    "knn = KNeighborsClassifier(n_neighbors=1)\n",
    "stratified_cv_results_knn_bush = cross_validate(knn, X_4, y_bush, cv=StratifiedKFold(n_splits = 3, shuffle=True, random_state = 3152), \n",
    "                                       scoring=('precision', 'recall', 'f1'), return_train_score=False)\n",
    "svm_bush = SVC(C=0.1, kernel='poly', degree=2, gamma=1)\n",
    "stratified_cv_results_svm_bush = cross_validate(svm_bush, X_4, y_bush, cv=StratifiedKFold(n_splits = 3, shuffle=True, random_state = 3152), \n",
    "                                       scoring=('precision', 'recall', 'f1'), return_train_score=False, n_jobs=-1)\n",
    "\n",
    "# Williams\n",
    "\n",
    "knn = KNeighborsClassifier(n_neighbors=1)\n",
    "stratified_cv_results_knn_williams = cross_validate(knn, X_4, y_williams, cv=StratifiedKFold(n_splits = 3, shuffle=True, random_state = 3152), \n",
    "                                       scoring=('precision', 'recall', 'f1'), return_train_score=False)\n",
    "svm_williams = SVC(C=0.1, kernel=\"linear\")\n",
    "stratified_cv_results_svm_williams = cross_validate(svm_williams, X_4, y_williams, cv=StratifiedKFold(n_splits = 3, shuffle=True, random_state = 3152), \n",
    "                                       scoring=('precision', 'recall', 'f1'), return_train_score=False, n_jobs=-1)\n",
    "pca = PCA(n_components=256)\n",
    "X_4 = pca.fit_transform(X)\n",
    "knn = KNeighborsClassifier(n_neighbors=1)\n",
    "stratified_cv_results_knn_williams_no_whiten = cross_validate(knn, X_4, y_williams, cv=StratifiedKFold(n_splits = 3, shuffle=True, random_state = 3152), \n",
    "                                       scoring=('precision', 'recall', 'f1'), return_train_score=False)\n",
    "svm_williams = SVC(C=0.1, kernel=\"linear\")\n",
    "stratified_cv_results_svm_williams_no_whiten = cross_validate(svm_williams, X_4, y_williams, cv=StratifiedKFold(n_splits = 3, shuffle=True, random_state = 3152), \n",
    "                                       scoring=('precision', 'recall', 'f1'), return_train_score=False, n_jobs=-1)"
   ]
  },
  {
   "cell_type": "code",
   "execution_count": 10,
   "metadata": {},
   "outputs": [
    {
     "data": {
      "text/plain": [
       "{'fit_time': array([0.08978295, 0.08183122, 0.0831461 ]),\n",
       " 'score_time': array([46.65229917, 46.51538897, 46.55143309]),\n",
       " 'test_precision': array([0.328125  , 0.29166667, 0.24193548]),\n",
       " 'test_recall': array([0.11864407, 0.11864407, 0.08522727]),\n",
       " 'test_f1': array([0.17427386, 0.1686747 , 0.12605042])}"
      ]
     },
     "execution_count": 10,
     "metadata": {},
     "output_type": "execute_result"
    }
   ],
   "source": [
    "stratified_cv_results_knn_bush"
   ]
  },
  {
   "cell_type": "code",
   "execution_count": 17,
   "metadata": {},
   "outputs": [
    {
     "data": {
      "text/plain": [
       "{'fit_time': array([8.45424891, 8.25800705, 8.21096087]),\n",
       " 'score_time': array([11.16978216, 10.98420501, 10.97247601]),\n",
       " 'test_precision': array([0.75862069, 0.66666667, 0.68181818]),\n",
       " 'test_recall': array([0.12429379, 0.06779661, 0.08522727]),\n",
       " 'test_f1': array([0.21359223, 0.12307692, 0.15151515])}"
      ]
     },
     "execution_count": 17,
     "metadata": {},
     "output_type": "execute_result"
    }
   ],
   "source": [
    "stratified_cv_results_svm_bush"
   ]
  },
  {
   "cell_type": "code",
   "execution_count": 12,
   "metadata": {},
   "outputs": [
    {
     "data": {
      "text/plain": [
       "{'fit_time': array([0.09073377, 0.08163095, 0.09003687]),\n",
       " 'score_time': array([46.47357321, 46.48186922, 46.48405814]),\n",
       " 'test_precision': array([1., 1., 1.]),\n",
       " 'test_recall': array([0.05555556, 0.11764706, 0.17647059]),\n",
       " 'test_f1': array([0.10526316, 0.21052632, 0.3       ])}"
      ]
     },
     "execution_count": 12,
     "metadata": {},
     "output_type": "execute_result"
    }
   ],
   "source": [
    "stratified_cv_results_knn_williams"
   ]
  },
  {
   "cell_type": "code",
   "execution_count": 28,
   "metadata": {},
   "outputs": [
    {
     "data": {
      "text/plain": [
       "0.20526315789473681"
      ]
     },
     "execution_count": 28,
     "metadata": {},
     "output_type": "execute_result"
    }
   ],
   "source": [
    "np.average(stratified_cv_results_knn_williams['test_f1'])"
   ]
  },
  {
   "cell_type": "code",
   "execution_count": 14,
   "metadata": {},
   "outputs": [
    {
     "data": {
      "text/plain": [
       "{'fit_time': array([0.09171891, 0.08115315, 0.08052611]),\n",
       " 'score_time': array([34.6180501 , 34.48722887, 34.32193995]),\n",
       " 'test_precision': array([0.2  , 0.6  , 0.375]),\n",
       " 'test_recall': array([0.05555556, 0.17647059, 0.17647059]),\n",
       " 'test_f1': array([0.08695652, 0.27272727, 0.24      ])}"
      ]
     },
     "execution_count": 14,
     "metadata": {},
     "output_type": "execute_result"
    }
   ],
   "source": [
    "stratified_cv_results_knn_williams_no_whiten"
   ]
  },
  {
   "cell_type": "code",
   "execution_count": 29,
   "metadata": {},
   "outputs": [
    {
     "data": {
      "text/plain": [
       "0.1998945981554677"
      ]
     },
     "execution_count": 29,
     "metadata": {},
     "output_type": "execute_result"
    }
   ],
   "source": [
    "np.average(stratified_cv_results_knn_williams_no_whiten['test_f1'])"
   ]
  },
  {
   "cell_type": "code",
   "execution_count": 15,
   "metadata": {},
   "outputs": [
    {
     "data": {
      "text/plain": [
       "{'fit_time': array([0.55762601, 0.53896308, 0.52398396]),\n",
       " 'score_time': array([0.53137803, 0.51501489, 0.50648999]),\n",
       " 'test_precision': array([0.43478261, 0.29411765, 0.31578947]),\n",
       " 'test_recall': array([0.55555556, 0.29411765, 0.35294118]),\n",
       " 'test_f1': array([0.48780488, 0.29411765, 0.33333333])}"
      ]
     },
     "execution_count": 15,
     "metadata": {},
     "output_type": "execute_result"
    }
   ],
   "source": [
    "stratified_cv_results_svm_williams"
   ]
  },
  {
   "cell_type": "code",
   "execution_count": 16,
   "metadata": {},
   "outputs": [
    {
     "data": {
      "text/plain": [
       "{'fit_time': array([0.57831502, 0.56791806, 0.56171584]),\n",
       " 'score_time': array([0.46502209, 0.42599487, 0.44968104]),\n",
       " 'test_precision': array([0.69230769, 0.26666667, 0.42857143]),\n",
       " 'test_recall': array([0.5       , 0.23529412, 0.35294118]),\n",
       " 'test_f1': array([0.58064516, 0.25      , 0.38709677])}"
      ]
     },
     "execution_count": 16,
     "metadata": {},
     "output_type": "execute_result"
    }
   ],
   "source": [
    "stratified_cv_results_svm_williams_no_whiten"
   ]
  },
  {
   "cell_type": "code",
   "execution_count": 30,
   "metadata": {},
   "outputs": [
    {
     "data": {
      "text/plain": [
       "0.4059139784946237"
      ]
     },
     "execution_count": 30,
     "metadata": {},
     "output_type": "execute_result"
    }
   ],
   "source": [
    "np.average(stratified_cv_results_svm_williams_no_whiten['test_f1'])"
   ]
  },
  {
   "cell_type": "code",
   "execution_count": 18,
   "metadata": {},
   "outputs": [],
   "source": [
    "pca = PCA(n_components=4096, whiten=True)\n",
    "X_4 = pca.fit_transform(X)\n",
    "knn = KNeighborsClassifier(n_neighbors=1)\n",
    "results_bush_4096 = stratified_cv_results_knn_bush = cross_validate(knn, X_4, y_bush, cv=StratifiedKFold(n_splits = 3, shuffle=True, random_state = 3152), \n",
    "                                       scoring=('precision', 'recall', 'f1'), return_train_score=False)\n",
    "knn = KNeighborsClassifier(n_neighbors=1)\n",
    "results_williams_4096 = stratified_cv_results_knn_bush = cross_validate(knn, X_4, y_williams, cv=StratifiedKFold(n_splits = 3, shuffle=True, random_state = 3152), \n",
    "                                       scoring=('precision', 'recall', 'f1'), return_train_score=False)"
   ]
  },
  {
   "cell_type": "code",
   "execution_count": 19,
   "metadata": {},
   "outputs": [
    {
     "data": {
      "text/plain": [
       "{'fit_time': array([3.98113632, 3.99209905, 3.96231198]),\n",
       " 'score_time': array([624.71178269, 620.80313683, 624.21212387]),\n",
       " 'test_precision': array([1., 1., 1.]),\n",
       " 'test_recall': array([0.01694915, 0.02259887, 0.01704545]),\n",
       " 'test_f1': array([0.03333333, 0.0441989 , 0.03351955])}"
      ]
     },
     "execution_count": 19,
     "metadata": {},
     "output_type": "execute_result"
    }
   ],
   "source": [
    "results_bush_4096"
   ]
  },
  {
   "cell_type": "code",
   "execution_count": 20,
   "metadata": {},
   "outputs": [
    {
     "data": {
      "text/plain": [
       "{'fit_time': array([4.00497198, 3.98956704, 3.9729538 ]),\n",
       " 'score_time': array([629.24643207, 621.05608702, 620.22357607]),\n",
       " 'test_precision': array([1., 1., 1.]),\n",
       " 'test_recall': array([0.05555556, 0.11764706, 0.05882353]),\n",
       " 'test_f1': array([0.10526316, 0.21052632, 0.11111111])}"
      ]
     },
     "execution_count": 20,
     "metadata": {},
     "output_type": "execute_result"
    }
   ],
   "source": [
    "results_williams_4096"
   ]
  },
  {
   "cell_type": "code",
   "execution_count": 31,
   "metadata": {},
   "outputs": [],
   "source": [
    "bush_f1 = [0.1563329933, 0.233571623403365]"
   ]
  },
  {
   "cell_type": "code",
   "execution_count": 32,
   "metadata": {},
   "outputs": [],
   "source": [
    "williams_f1 = [0.2052631579, 0.405913978494623]"
   ]
  },
  {
   "cell_type": "code",
   "execution_count": 33,
   "metadata": {},
   "outputs": [],
   "source": [
    "import pickle"
   ]
  },
  {
   "cell_type": "code",
   "execution_count": 34,
   "metadata": {},
   "outputs": [],
   "source": [
    "pickle.dump(bush_f1, open('bush.pickle', 'wb'))"
   ]
  },
  {
   "cell_type": "code",
   "execution_count": 35,
   "metadata": {},
   "outputs": [],
   "source": [
    "pickle.dump(williams_f1, open('williams.pickle', 'wb'))"
   ]
  },
  {
   "cell_type": "code",
   "execution_count": null,
   "metadata": {},
   "outputs": [],
   "source": []
  }
 ],
 "metadata": {
  "kernelspec": {
   "display_name": "tensorflow_env",
   "language": "python",
   "name": "tensorflow_env"
  },
  "language_info": {
   "codemirror_mode": {
    "name": "ipython",
    "version": 3
   },
   "file_extension": ".py",
   "mimetype": "text/x-python",
   "name": "python",
   "nbconvert_exporter": "python",
   "pygments_lexer": "ipython3",
   "version": "3.6.5"
  }
 },
 "nbformat": 4,
 "nbformat_minor": 2
}

{
 "cells": [
  {
   "cell_type": "markdown",
   "metadata": {},
   "source": [
    "# Preprocessing"
   ]
  },
  {
   "cell_type": "code",
   "execution_count": 22,
   "metadata": {},
   "outputs": [],
   "source": [
    "def unpickle(file):\n",
    "    import pickle\n",
    "    with open(file, 'rb') as fo:\n",
    "        file_dict = pickle.load(fo, encoding='bytes')\n",
    "    return file_dict"
   ]
  },
  {
   "cell_type": "code",
   "execution_count": 23,
   "metadata": {},
   "outputs": [],
   "source": [
    "b1 = unpickle('cifar-10-batches-py/data_batch_1')\n",
    "b1_labels = b1[b'labels']\n",
    "b1_imgs = b1[b'data']"
   ]
  },
  {
   "cell_type": "code",
   "execution_count": 24,
   "metadata": {},
   "outputs": [],
   "source": [
    "b2 = unpickle('cifar-10-batches-py/data_batch_2')\n",
    "b2_labels = b2[b'labels']\n",
    "b2_imgs = b2[b'data']"
   ]
  },
  {
   "cell_type": "code",
   "execution_count": 25,
   "metadata": {},
   "outputs": [],
   "source": [
    "b3 = unpickle('cifar-10-batches-py/data_batch_3')\n",
    "b3_labels = b3[b'labels']\n",
    "b3_imgs = b3[b'data']"
   ]
  },
  {
   "cell_type": "code",
   "execution_count": 26,
   "metadata": {},
   "outputs": [],
   "source": [
    "b4 = unpickle('cifar-10-batches-py/data_batch_4')\n",
    "b4_labels = b4[b'labels']\n",
    "b4_imgs = b4[b'data']"
   ]
  },
  {
   "cell_type": "code",
   "execution_count": 27,
   "metadata": {},
   "outputs": [],
   "source": [
    "b5 = unpickle('cifar-10-batches-py/data_batch_5')\n",
    "b5_labels = b5[b'labels']\n",
    "b5_imgs = b5[b'data']"
   ]
  },
  {
   "cell_type": "code",
   "execution_count": 28,
   "metadata": {},
   "outputs": [],
   "source": [
    "b6 = unpickle('cifar-10-batches-py/test_batch')\n",
    "b6_labels = b6[b'labels']\n",
    "b6_imgs = b6[b'data']"
   ]
  },
  {
   "cell_type": "code",
   "execution_count": 29,
   "metadata": {},
   "outputs": [],
   "source": [
    "X_frog = []\n",
    "for i in range(len(b1_imgs)):\n",
    "    img = b1_imgs[i]\n",
    "    img = np.moveaxis(img.reshape(3,32,32),0,-1)\n",
    "    plt.imsave('img.png', img)\n",
    "    img = Image.open('img.png').convert('L')\n",
    "    new_img = img.resize((64,64), Image.ANTIALIAS)\n",
    "    img_arr = np.array(new_img)\n",
    "    X_frog.append(img_arr)\n",
    "for i in range(len(b2_imgs)):\n",
    "    img = b2_imgs[i]\n",
    "    img = np.moveaxis(img.reshape(3,32,32),0,-1)\n",
    "    plt.imsave('img.png', img)\n",
    "    img = Image.open('img.png').convert('L')\n",
    "    new_img = img.resize((64,64), Image.ANTIALIAS)\n",
    "    img_arr = np.array(new_img)\n",
    "    X_frog.append(img_arr)\n",
    "for i in range(len(b3_imgs)):\n",
    "    img = b3_imgs[i]\n",
    "    img = np.moveaxis(img.reshape(3,32,32),0,-1)\n",
    "    plt.imsave('img.png', img)\n",
    "    img = Image.open('img.png').convert('L')\n",
    "    new_img = img.resize((64,64), Image.ANTIALIAS)\n",
    "    img_arr = np.array(new_img)\n",
    "    X_frog.append(img_arr)\n",
    "for i in range(len(b4_imgs)):\n",
    "    img = b4_imgs[i]\n",
    "    img = np.moveaxis(img.reshape(3,32,32),0,-1)\n",
    "    plt.imsave('img.png', img)\n",
    "    img = Image.open('img.png').convert('L')\n",
    "    new_img = img.resize((64,64), Image.ANTIALIAS)\n",
    "    img_arr = np.array(new_img)\n",
    "    X_frog.append(img_arr)\n",
    "for i in range(len(b5_imgs)):\n",
    "    img = b5_imgs[i]\n",
    "    img = np.moveaxis(img.reshape(3,32,32),0,-1)\n",
    "    plt.imsave('img.png', img)\n",
    "    img = Image.open('img.png').convert('L')\n",
    "    new_img = img.resize((64,64), Image.ANTIALIAS)\n",
    "    img_arr = np.array(new_img)\n",
    "    X_frog.append(img_arr)\n",
    "for i in range(len(b6_imgs)):\n",
    "    img = b6_imgs[i]\n",
    "    img = np.moveaxis(img.reshape(3,32,32),0,-1)\n",
    "    plt.imsave('img.png', img)\n",
    "    img = Image.open('img.png').convert('L')\n",
    "    new_img = img.resize((64,64), Image.ANTIALIAS)\n",
    "    img_arr = np.array(new_img)\n",
    "    X_frog.append(img_arr)\n",
    "X_frog = np.array(X_frog)\n"
   ]
  },
  {
   "cell_type": "code",
   "execution_count": 54,
   "metadata": {},
   "outputs": [],
   "source": [
    "# Alternate \n",
    "\n",
    "X_frog = []\n",
    "for i in range(len(b1_imgs)):\n",
    "    img = b1_imgs[i]\n",
    "    img = np.moveaxis(img.reshape(3,32,32),0,-1)\n",
    "    plt.imsave('img.png', img)\n",
    "    img = Image.open('img.png').convert('L')\n",
    "    new_img = img.resize((64,64), Image.ANTIALIAS)\n",
    "    img_arr = np.array(new_img)\n",
    "    X_frog.append(img_arr)\n",
    "X_frog = np.array(X_frog)\n",
    "\n",
    "y_frog = [1 if i == 5 else 0 for i in b1_labels]"
   ]
  },
  {
   "cell_type": "code",
   "execution_count": 308,
   "metadata": {},
   "outputs": [],
   "source": [
    "frog_labels_1 = [1 if i == 6 else 0 for i in b1_labels]\n",
    "frog_labels_2 = [1 if i == 6 else 0 for i in b2_labels]\n",
    "frog_labels_3 = [1 if i == 6 else 0 for i in b3_labels]\n",
    "frog_labels_4 = [1 if i == 6 else 0 for i in b4_labels]\n",
    "frog_labels_5 = [1 if i == 6 else 0 for i in b5_labels]\n",
    "frog_labels_6 = [1 if i == 6 else 0 for i in b6_labels]\n",
    "\n",
    "y_frog = frog_labels_1 + frog_labels_2 + frog_labels_3 + frog_labels_4 + frog_labels_5 + frog_labels_6"
   ]
  },
  {
   "cell_type": "markdown",
   "metadata": {},
   "source": [
    "# CNN Learning"
   ]
  },
  {
   "cell_type": "code",
   "execution_count": 55,
   "metadata": {},
   "outputs": [],
   "source": [
    "import keras\n",
    "from sklearn.model_selection import train_test_split\n",
    "import numpy as np\n",
    "import pandas as pd\n",
    "import matplotlib.pyplot as plt\n",
    "import matplotlib.cm as cm\n",
    "from PIL import Image"
   ]
  },
  {
   "cell_type": "code",
   "execution_count": 56,
   "metadata": {},
   "outputs": [],
   "source": [
    "X_frog = X_frog / 255"
   ]
  },
  {
   "cell_type": "code",
   "execution_count": 57,
   "metadata": {},
   "outputs": [],
   "source": [
    "X_train_frog, X_test_frog, y_train_frog, y_test_frog = train_test_split(X_frog,\n",
    "                                                                       y_frog,\n",
    "                                                                       test_size=1./3,\n",
    "                                                                       random_state=3152,\n",
    "                                                                       shuffle=True,\n",
    "                                                                       stratify=y_frog)"
   ]
  },
  {
   "cell_type": "code",
   "execution_count": 58,
   "metadata": {},
   "outputs": [],
   "source": [
    "X_train_frog = X_train_frog.reshape(len(X_train_frog), 64, 64, 1)"
   ]
  },
  {
   "cell_type": "code",
   "execution_count": 59,
   "metadata": {},
   "outputs": [],
   "source": [
    "X_test_frog = X_test_frog.reshape(len(X_test_frog), 64, 64, 1)"
   ]
  },
  {
   "cell_type": "code",
   "execution_count": 60,
   "metadata": {},
   "outputs": [],
   "source": [
    "from keras.models import Sequential\n",
    "from keras.layers import Dense, Conv2D, Flatten, MaxPooling2D\n",
    "from sklearn.metrics import f1_score"
   ]
  },
  {
   "cell_type": "code",
   "execution_count": null,
   "metadata": {},
   "outputs": [
    {
     "name": "stdout",
     "output_type": "stream",
     "text": [
      "Epoch 1/5\n",
      "6666/6666 [==============================] - 15s 2ms/step - loss: 0.3149\n",
      "Epoch 2/5\n",
      "6666/6666 [==============================] - 15s 2ms/step - loss: 0.2863\n",
      "Epoch 3/5\n",
      "6666/6666 [==============================] - 16s 2ms/step - loss: 0.2666\n",
      "Epoch 4/5\n",
      "6666/6666 [==============================] - 15s 2ms/step - loss: 0.2570\n",
      "Epoch 5/5\n",
      "6666/6666 [==============================] - 15s 2ms/step - loss: 0.2392\n"
     ]
    }
   ],
   "source": [
    "# Create the model\n",
    "\n",
    "bush_model = Sequential()\n",
    "\n",
    "# Add model layers\n",
    "\n",
    "bush_model.add(Conv2D(64, kernel_size=3, activation='relu', input_shape=(64,64,1)))\n",
    "bush_model.add(MaxPooling2D(pool_size=(2,2)))\n",
    "bush_model.add(Conv2D(32, kernel_size=3, activation='relu'))\n",
    "bush_model.add(Flatten())\n",
    "bush_model.add(Dense(8, activation='relu'))\n",
    "bush_model.add(Dense(1, activation='sigmoid'))\n",
    "\n",
    "bush_model.compile(optimizer='adam', loss='binary_crossentropy')\n",
    "\n",
    "bush_model.fit(X_train_frog, y_train_frog, epochs=5)\n",
    "\n",
    "y_bush_train_pred = bush_model.predict(X_train_frog)\n",
    "y_bush_train_pred = np.array([1 if val > 0.5 else 0 for val in y_bush_train_pred])\n",
    "y_bush_f1_train = f1_score(y_train_frog, y_bush_train_pred)\n",
    "\n",
    "y_bush_test_pred = bush_model.predict(X_test_frog)\n",
    "y_bush_test_pred = np.array([1 if val > 0.5 else 0 for val in y_bush_test_pred])\n",
    "y_bush_f1_test = f1_score(y_test_frog, y_bush_test_pred)\n",
    "\n",
    "print(\"F1 score for bush model on train: {}, F1 score for bush model on test: {}\".format(y_bush_f1_train, y_bush_f1_test))"
   ]
  },
  {
   "cell_type": "code",
   "execution_count": 385,
   "metadata": {},
   "outputs": [
    {
     "name": "stdout",
     "output_type": "stream",
     "text": [
      "Epoch 1/1\n",
      "40000/40000 [==============================] - 98s 2ms/step - loss: 0.2769\n",
      "F1 score for bush model on train: 0.20022148394241418, F1 score for bush model on test: 0.1681654676258993\n"
     ]
    }
   ],
   "source": [
    "# Create the model\n",
    "\n",
    "bush_model2 = Sequential()\n",
    "\n",
    "# Add model layers\n",
    "\n",
    "bush_model2.add(Conv2D(64, kernel_size=3, activation='relu', input_shape=(64,64,1)))\n",
    "bush_model2.add(MaxPooling2D(pool_size=(2,2)))\n",
    "bush_model2.add(Conv2D(32, kernel_size=3, activation='relu'))\n",
    "bush_model2.add(Flatten())\n",
    "bush_model2.add(Dense(8, activation='relu'))\n",
    "bush_model2.add(Dense(1, activation='sigmoid'))\n",
    "\n",
    "bush_model2.compile(optimizer='adam', loss='binary_crossentropy')\n",
    "\n",
    "bush_model2.fit(X_train_frog, y_train_frog, epochs=1)\n",
    "\n",
    "y_bush_train_pred = bush_model2.predict(X_train_frog)\n",
    "y_bush_train_pred = np.array([1 if val > 0.5 else 0 for val in y_bush_train_pred])\n",
    "y_bush_f1_train = f1_score(y_train_frog, y_bush_train_pred)\n",
    "\n",
    "y_bush_test_pred = bush_model2.predict(X_test_frog)\n",
    "y_bush_test_pred = np.array([1 if val > 0.5 else 0 for val in y_bush_test_pred])\n",
    "y_bush_f1_test = f1_score(y_test_frog, y_bush_test_pred)\n",
    "\n",
    "print(\"F1 score for bush model on train: {}, F1 score for bush model on test: {}\".format(y_bush_f1_train, y_bush_f1_test))"
   ]
  },
  {
   "cell_type": "code",
   "execution_count": 387,
   "metadata": {},
   "outputs": [],
   "source": [
    "bush_model.save('initialized_model.keras')"
   ]
  },
  {
   "cell_type": "markdown",
   "metadata": {},
   "source": [
    "# Bush Dataset on Initialized Model"
   ]
  },
  {
   "cell_type": "code",
   "execution_count": 336,
   "metadata": {},
   "outputs": [],
   "source": [
    "# PREPARATION OF THE DATA\n",
    "\n",
    "X = pd.read_csv(\"../data/X.csv\", sep=' ', header=None, dtype=float)\n",
    "X = X.values\n",
    "y = pd.read_csv(\"../data/y_bush_vs_others.csv\", header=None)\n",
    "y_bush = y.values.ravel()\n",
    "y = pd.read_csv(\"../data/y_williams_vs_others.csv\", header=None)\n",
    "y_williams = y.values.ravel()\n",
    "X_train_bush, X_test_bush, y_train_bush, y_test_bush = train_test_split(X, \n",
    "                                                                        y_bush, \n",
    "                                                                        test_size=1./3, \n",
    "                                                                        random_state=3152, \n",
    "                                                                        shuffle=True, \n",
    "                                                                        stratify=y_bush)\n",
    "\n",
    "X_train_bush = X_train_bush.reshape(len(X_train_bush),64,64,1)\n",
    "X_test_bush = X_test_bush.reshape(len(X_test_bush),64,64,1)"
   ]
  },
  {
   "cell_type": "code",
   "execution_count": 338,
   "metadata": {},
   "outputs": [],
   "source": [
    "from keras.models import load_model\n",
    "master_model = load_model('initialized_model.keras')"
   ]
  },
  {
   "cell_type": "code",
   "execution_count": 340,
   "metadata": {},
   "outputs": [],
   "source": [
    "bush_model_new = load_model('initialized_model.keras')"
   ]
  },
  {
   "cell_type": "code",
   "execution_count": 342,
   "metadata": {},
   "outputs": [
    {
     "name": "stdout",
     "output_type": "stream",
     "text": [
      "Epoch 1/5\n",
      "8822/8822 [==============================] - 23s 3ms/step - loss: 0.0292\n",
      "Epoch 2/5\n",
      "8822/8822 [==============================] - 23s 3ms/step - loss: 0.0225\n",
      "Epoch 3/5\n",
      "8822/8822 [==============================] - 20s 2ms/step - loss: 0.0187\n",
      "Epoch 4/5\n",
      "8822/8822 [==============================] - 20s 2ms/step - loss: 0.0159\n",
      "Epoch 5/5\n",
      "8822/8822 [==============================] - 20s 2ms/step - loss: 0.0122\n",
      "F1 score for bush model on train: 1.0, F1 score for bush model on test: 0.7348242811501597\n"
     ]
    }
   ],
   "source": [
    "bush_model_new.fit(X_train_bush, y_train_bush, epochs=5, batch_size=32)\n",
    "y_bush_train_pred2 = bush_model_new.predict(X_train_bush)\n",
    "y_bush_train_pred2 = np.array([1 if val > 0.5 else 0 for val in y_bush_train_pred2])\n",
    "y_bush_f1_train2 = f1_score(y_train_bush, y_bush_train_pred2)\n",
    "\n",
    "y_bush_test_pred2 = bush_model_new.predict(X_test_bush)\n",
    "y_bush_test_pred2 = np.array([1 if val > 0.5 else 0 for val in y_bush_test_pred2])\n",
    "y_bush_f1_test2 = f1_score(y_test_bush, y_bush_test_pred2)\n",
    "\n",
    "print(\"F1 score for bush model on train: {}, F1 score for bush model on test: {}\".format(y_bush_f1_train2, y_bush_f1_test2))"
   ]
  },
  {
   "cell_type": "code",
   "execution_count": 390,
   "metadata": {},
   "outputs": [
    {
     "name": "stdout",
     "output_type": "stream",
     "text": [
      "Epoch 1/5\n",
      "8822/8822 [==============================] - 21s 2ms/step - loss: 0.0261\n",
      "Epoch 2/5\n",
      "8822/8822 [==============================] - 20s 2ms/step - loss: 0.0190\n",
      "Epoch 3/5\n",
      "8822/8822 [==============================] - 20s 2ms/step - loss: 0.0154\n",
      "Epoch 4/5\n",
      "8822/8822 [==============================] - 21s 2ms/step - loss: 0.0143\n",
      "Epoch 5/5\n",
      "8822/8822 [==============================] - 21s 2ms/step - loss: 0.0101\n",
      "F1 score for bush model on train: 1.0, F1 score for bush model on test: 0.6402877697841727\n"
     ]
    }
   ],
   "source": [
    "bush_model_new_2 = bush_model\n",
    "bush_model_new_2.fit(X_train_bush, y_train_bush, epochs=5, batch_size=32)\n",
    "y_bush_train_pred2 = bush_model_new_2.predict(X_train_bush)\n",
    "y_bush_train_pred2 = np.array([1 if val > 0.5 else 0 for val in y_bush_train_pred2])\n",
    "y_bush_f1_train2 = f1_score(y_train_bush, y_bush_train_pred2)\n",
    "\n",
    "y_bush_test_pred2 = bush_model_new_2.predict(X_test_bush)\n",
    "y_bush_test_pred2 = np.array([1 if val > 0.5 else 0 for val in y_bush_test_pred2])\n",
    "y_bush_f1_test2 = f1_score(y_test_bush, y_bush_test_pred2)\n",
    "\n",
    "print(\"F1 score for bush model on train: {}, F1 score for bush model on test: {}\".format(y_bush_f1_train2, y_bush_f1_test2))"
   ]
  },
  {
   "cell_type": "code",
   "execution_count": 349,
   "metadata": {},
   "outputs": [],
   "source": [
    "bush_model_new.save('bush.model')"
   ]
  },
  {
   "cell_type": "code",
   "execution_count": 395,
   "metadata": {},
   "outputs": [
    {
     "name": "stdout",
     "output_type": "stream",
     "text": [
      "F1 score for bush model on train: 1.0, F1 score for bush model on test: 0.7348242811501597\n"
     ]
    }
   ],
   "source": [
    "x = load_model('bush.model')\n",
    "y_bush_train_pred2 = x.predict(X_train_bush)\n",
    "y_bush_train_pred2 = np.array([1 if val > 0.5 else 0 for val in y_bush_train_pred2])\n",
    "y_bush_f1_train2 = f1_score(y_train_bush, y_bush_train_pred2)\n",
    "\n",
    "y_bush_test_pred2 = x.predict(X_test_bush)\n",
    "y_bush_test_pred2 = np.array([1 if val > 0.5 else 0 for val in y_bush_test_pred2])\n",
    "y_bush_f1_test2 = f1_score(y_test_bush, y_bush_test_pred2)\n",
    "print(\"F1 score for bush model on train: {}, F1 score for bush model on test: {}\".format(y_bush_f1_train2, y_bush_f1_test2))"
   ]
  },
  {
   "cell_type": "markdown",
   "metadata": {},
   "source": [
    "# Williams Dataset on Initialized Model"
   ]
  },
  {
   "cell_type": "code",
   "execution_count": 52,
   "metadata": {},
   "outputs": [],
   "source": [
    "# PREPARATION OF THE DATA\n",
    "\n",
    "X = pd.read_csv(\"../data/X.csv\", sep=' ', header=None, dtype=float)\n",
    "X = X.values\n",
    "y = pd.read_csv(\"../data/y_bush_vs_others.csv\", header=None)\n",
    "y_bush = y.values.ravel()\n",
    "y = pd.read_csv(\"../data/y_williams_vs_others.csv\", header=None)\n",
    "y_williams = y.values.ravel()\n",
    "X_train_williams, X_test_williams, y_train_williams, y_test_williams = train_test_split(X, \n",
    "                                                                        y_williams, \n",
    "                                                                        test_size=1./3, \n",
    "                                                                        random_state=3152, \n",
    "                                                                        shuffle=True, \n",
    "                                                                        stratify=y_williams)\n",
    "\n",
    "X_train_williams = X_train_williams.reshape(len(X_train_williams),64,64,1)\n",
    "X_test_williams = X_test_williams.reshape(len(X_test_williams),64,64,1)"
   ]
  },
  {
   "cell_type": "code",
   "execution_count": 53,
   "metadata": {},
   "outputs": [
    {
     "name": "stdout",
     "output_type": "stream",
     "text": [
      "Epoch 1/5\n",
      "8822/8822 [==============================] - 18s 2ms/step - loss: 0.0551\n",
      "Epoch 2/5\n",
      "8822/8822 [==============================] - 18s 2ms/step - loss: 0.0639\n",
      "Epoch 3/5\n",
      "8822/8822 [==============================] - 18s 2ms/step - loss: 0.0639\n",
      "Epoch 4/5\n",
      "8822/8822 [==============================] - 18s 2ms/step - loss: 0.0639\n",
      "Epoch 5/5\n",
      "8822/8822 [==============================] - 18s 2ms/step - loss: 0.0639\n"
     ]
    },
    {
     "name": "stderr",
     "output_type": "stream",
     "text": [
      "/Users/sabuammer/.virtualenvs/tensorflow/lib/python3.6/site-packages/sklearn/metrics/classification.py:1135: UndefinedMetricWarning: F-score is ill-defined and being set to 0.0 due to no predicted samples.\n",
      "  'precision', 'predicted', average, warn_for)\n"
     ]
    },
    {
     "name": "stdout",
     "output_type": "stream",
     "text": [
      "F1 score for williams model on train: 0.0, F1 score for williams model on test: 0.0\n"
     ]
    }
   ],
   "source": [
    "bush_model.fit(X_train_williams, y_train_williams, epochs=5, batch_size=32)\n",
    "\n",
    "y_williams_train_pred = bush_model.predict(X_train_williams)\n",
    "y_williams_train_pred = np.array([1 if val > 0.5 else 0 for val in y_williams_train_pred])\n",
    "y_williams_f1_train = f1_score(y_train_williams, y_williams_train_pred)\n",
    "\n",
    "y_williams_test_pred = bush_model.predict(X_test_williams)\n",
    "y_williams_test_pred = np.array([1 if val > 0.5 else 0 for val in y_williams_test_pred])\n",
    "y_williams_f1_test = f1_score(y_test_williams, y_williams_test_pred)\n",
    "\n",
    "print(\"F1 score for williams model on train: {}, F1 score for williams model on test: {}\".format(y_williams_f1_train, y_williams_f1_test))"
   ]
  },
  {
   "cell_type": "code",
   "execution_count": 365,
   "metadata": {},
   "outputs": [
    {
     "data": {
      "text/plain": [
       "[0.9565217391304348, 0.7162162162162163]"
      ]
     },
     "execution_count": 365,
     "metadata": {},
     "output_type": "execute_result"
    }
   ],
   "source": [
    "unpickle('../Phase 3/bush.pickle')"
   ]
  },
  {
   "cell_type": "code",
   "execution_count": 366,
   "metadata": {},
   "outputs": [
    {
     "data": {
      "text/plain": [
       "[0.9705882352941176, 0.5833333333333334]"
      ]
     },
     "execution_count": 366,
     "metadata": {},
     "output_type": "execute_result"
    }
   ],
   "source": [
    "unpickle('../Phase 3/williams.pickle')"
   ]
  },
  {
   "cell_type": "code",
   "execution_count": 391,
   "metadata": {},
   "outputs": [],
   "source": [
    "bush_model2.save('williams.model')"
   ]
  },
  {
   "cell_type": "code",
   "execution_count": null,
   "metadata": {},
   "outputs": [],
   "source": []
  }
 ],
 "metadata": {
  "kernelspec": {
   "display_name": "tensorflow_env",
   "language": "python",
   "name": "tensorflow_env"
  },
  "language_info": {
   "codemirror_mode": {
    "name": "ipython",
    "version": 3
   },
   "file_extension": ".py",
   "mimetype": "text/x-python",
   "name": "python",
   "nbconvert_exporter": "python",
   "pygments_lexer": "ipython3",
   "version": "3.6.5"
  }
 },
 "nbformat": 4,
 "nbformat_minor": 2
}
